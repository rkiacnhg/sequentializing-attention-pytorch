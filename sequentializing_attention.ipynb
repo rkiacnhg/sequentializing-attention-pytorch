{
  "nbformat": 4,
  "nbformat_minor": 0,
  "metadata": {
    "colab": {
      "name": "sequentializing_attention.ipynb",
      "provenance": [],
      "collapsed_sections": []
    },
    "kernelspec": {
      "name": "python3",
      "display_name": "Python 3"
    },
    "language_info": {
      "name": "python"
    },
    "accelerator": "GPU"
  },
  "cells": [
    {
      "cell_type": "markdown",
      "source": [
        "# Sequentializing Pytorch's Parallel Implementation of Attention and Analyzing the Difference in Performance Between the Two Implementations"
      ],
      "metadata": {
        "id": "qALrpjwpUwya"
      }
    },
    {
      "cell_type": "code",
      "source": [
        "from typing import Callable, List, Optional, Tuple\n",
        "import torch\n",
        "import torch.nn as nn\n",
        "from torch.autograd import Function\n",
        "from torch.nn.init import xavier_uniform_, constant_\n",
        "import torch.nn.functional as F\n",
        "from torch.autograd import gradcheck\n",
        "from torch.overrides import has_torch_function\n",
        "from torch.nn.functional import linear, softmax, dropout\n",
        "from torchtext.datasets import WikiText2\n",
        "from torchtext.data.utils import get_tokenizer\n",
        "from torchtext.vocab import build_vocab_from_iterator\n",
        "import math, time, copy\n",
        "from torch import nn, Tensor\n",
        "from torch.nn import TransformerEncoder, TransformerEncoderLayer, Transformer\n",
        "from torch.utils.data import dataset\n",
        "from tqdm import tqdm\n",
        "import matplotlib.pyplot as plt\n",
        "import pandas as pd\n",
        "from prettytable import PrettyTable\n"
      ],
      "metadata": {
        "id": "_qypN_nBuP2b"
      },
      "execution_count": null,
      "outputs": []
    },
    {
      "cell_type": "code",
      "source": [
        "#source: https://pytorch.org/tutorials/beginner/transformer_tutorial.html\n",
        "train_iter = WikiText2(split='train')\n",
        "tokenizer = get_tokenizer('basic_english')\n",
        "vocab = build_vocab_from_iterator(map(tokenizer, train_iter), specials=['<unk>'])\n",
        "vocab.set_default_index(vocab['<unk>'])\n",
        "\n",
        "def data_process(raw_text_iter):#: dataset.IterableDataset) -> Tensor:\n",
        "    \"\"\"Converts raw text into a flat Tensor.\"\"\"\n",
        "    data = [torch.tensor(vocab(tokenizer(item)), dtype=torch.long) for item in raw_text_iter]\n",
        "    return torch.cat(tuple(filter(lambda t: t.numel() > 0, data)))\n",
        "\n",
        "train_iter, val_iter, test_iter = WikiText2()\n",
        "train_data = data_process(train_iter)\n",
        "val_data = data_process(val_iter)\n",
        "test_data = data_process(test_iter)\n",
        "device = torch.device('cuda' if torch.cuda.is_available() else 'cpu')\n",
        "\n",
        "def batchify(data, bsz):#: Tensor, bsz: int) -> Tensor:\n",
        "    seq_len = data.size(0) // bsz\n",
        "    data = data[:seq_len * bsz]\n",
        "    data = data.view(bsz, seq_len).t().contiguous()\n",
        "    return data.to(device)\n",
        "\n",
        "batch_size = 20\n",
        "eval_batch_size = 10\n",
        "train_data = batchify(train_data, batch_size)  # shape [seq_len, batch_size]\n",
        "val_data = batchify(val_data, eval_batch_size)\n",
        "test_data = batchify(test_data, eval_batch_size)\n",
        "print(len(train_data)//35)"
      ],
      "metadata": {
        "colab": {
          "base_uri": "https://localhost:8080/"
        },
        "id": "9We0WK1vuSyl",
        "outputId": "c7ad6a0a-5081-4ae4-b6b6-0203dee97cf5"
      },
      "execution_count": null,
      "outputs": [
        {
          "output_type": "stream",
          "name": "stderr",
          "text": [
            "100%|██████████| 4.48M/4.48M [00:00<00:00, 8.77MB/s]\n"
          ]
        },
        {
          "output_type": "stream",
          "name": "stdout",
          "text": [
            "2928\n"
          ]
        }
      ]
    },
    {
      "cell_type": "code",
      "source": [
        "#source: https://pytorch.org/tutorials/beginner/transformer_tutorial.html\n",
        "bptt = 35\n",
        "def get_batch(source, i ):# : Tensor, i: int) -> Tuple[Tensor, Tensor]:\n",
        "    \"\"\"\n",
        "    Args:\n",
        "        source: Tensor, shape [full_seq_len, batch_size]\n",
        "        i: int\n",
        "    Returns:\n",
        "        tuple (data, target), where data has shape [seq_len, batch_size] and\n",
        "        target has shape [seq_len * batch_size]\n",
        "    \"\"\"\n",
        "    seq_len = min(bptt, len(source) - 1 - i)\n",
        "    data = source[i:i+seq_len]\n",
        "    target = source[i+1:i+1+seq_len].reshape(-1)\n",
        "    return data, target"
      ],
      "metadata": {
        "id": "Eiak8ewOwus0"
      },
      "execution_count": null,
      "outputs": []
    },
    {
      "cell_type": "code",
      "source": [
        "#resource: https://pytorch.org/tutorials/beginner/examples_autograd/two_layer_net_custom_function.html\n",
        "class sequentialMHA(torch.autograd.Function):\n",
        "  @staticmethod\n",
        "  def forward(ctx, query, key, value, w, b, head_dim):\n",
        "    ctx.save_for_backward(query,key,value,w,b,torch.Tensor([head_dim]))\n",
        "    Q = torch.matmul(query,w[:head_dim,:].T)\n",
        "    K = torch.matmul(key,w[head_dim:head_dim*2,:].T)\n",
        "    V = torch.matmul(value,w[head_dim*2:,:].T)\n",
        "    if b is not None:\n",
        "        Q += b[:head_dim]\n",
        "        K += b[head_dim:head_dim*2]\n",
        "        V += b[head_dim*2:]\n",
        "    return Q, K, V\n",
        "\n",
        "  @staticmethod\n",
        "  def backward(ctx, grad_output_Q, grad_output_K, grad_output_V):\n",
        "    #print(grad_output_Q.shape)\n",
        "    q,k,v,w,b,head_dim = ctx.saved_tensors\n",
        "    grad_q = grad_k = grad_v = grad_w = grad_bias = None\n",
        "    head_dim = int(head_dim.item())\n",
        "    grad_q = torch.matmul(grad_output_Q, w[:head_dim,:])\n",
        "    grad_k = torch.matmul(grad_output_K, w[head_dim: head_dim*2,:])\n",
        "    grad_v = torch.matmul(grad_output_V, w[head_dim*2:,:])\n",
        "\n",
        "    grad_wq = torch.bmm(grad_output_Q.transpose(1,2), q)\n",
        "    grad_wk = torch.bmm(grad_output_K.transpose(1,2), k)\n",
        "    grad_wv = torch.bmm(grad_output_V.transpose(1,2), v)\n",
        "    grad_w = torch.cat((grad_wq, grad_wk, grad_wv), dim = 1)\n",
        "    if b is not None:\n",
        "      grad_bq = grad_output_Q.sum(0)\n",
        "      grad_bk = grad_output_K.sum(0)\n",
        "      grad_bv = grad_output_V.sum(0)\n",
        "      grad_bias = torch.cat((grad_bq, grad_bk, grad_bv), dim = 1)\n",
        "    return grad_q, grad_k, grad_v, grad_w, grad_bias, None\n",
        "    "
      ],
      "metadata": {
        "id": "gD2oUsN6S3_3"
      },
      "execution_count": null,
      "outputs": []
    },
    {
      "cell_type": "code",
      "execution_count": null,
      "metadata": {
        "id": "WJ_9VpRSH8do"
      },
      "outputs": [],
      "source": [
        "#adapted from: https://github.com/pytorch/pytorch/blob/master/torch/nn/functional.py\n",
        "Tensor = torch.Tensor\n",
        "\n",
        "class CustomMultiheadAttention(nn.Module):\n",
        "    \"\"\"\n",
        "    \n",
        "    Modified pytorch official implementation to add memory efficient MHA: \n",
        "        pytorch repo :https://github.com/pytorch/pytorch\n",
        "\n",
        "    Allows the model to jointly attend to information\n",
        "    from different representation subspaces.\n",
        "    See reference: Attention Is All You Need\n",
        "\n",
        "    .. math::\n",
        "        \\text{MultiHead}(Q, K, V) = \\text{Concat}(head_1,\\dots,head_h)W^O\n",
        "        \\text{where} head_i = \\text{Attention}(QW_i^Q, KW_i^K, VW_i^V)\n",
        "\n",
        "    Args:\n",
        "        embed_dim: total dimension of the model.\n",
        "        num_heads: parallel attention heads.\n",
        "        dropout: a Dropout layer on attn_output_weights. Default: 0.0.\n",
        "        bias: add bias as module parameter. Default: True.\n",
        "        add_bias_kv: add bias to the key and value sequences at dim=0.\n",
        "        add_zero_attn: add a new batch of zeros to the key and\n",
        "                       value sequences at dim=1.\n",
        "        kdim: total number of features in key. Default: None.\n",
        "        vdim: total number of features in value. Default: None.\n",
        "\n",
        "        Note: if kdim and vdim are None, they will be set to embed_dim such that\n",
        "        query, key, and value have the same number of features.\n",
        "\n",
        "    Examples::\n",
        "\n",
        "        >>> multihead_attn = nn.CustomMultiheadAttention(embed_dim, num_heads)\n",
        "        >>> attn_output, attn_output_weights = multihead_attn(query, key, value)\n",
        "    \"\"\"\n",
        "    bias_k: Optional[torch.Tensor]\n",
        "    bias_v: Optional[torch.Tensor]\n",
        "\n",
        "    def __init__(self, embed_dim, num_heads, training=True, dropout=0., bias=True, \n",
        "        add_bias_kv=False, add_zero_attn=False, kdim=None, vdim=None, batch_first = False,\n",
        "        memory_efficient=False):\n",
        "        super(CustomMultiheadAttention, self).__init__()\n",
        "        self.memory_efficient = memory_efficient\n",
        "        self.embed_dim = embed_dim\n",
        "        self.kdim = kdim if kdim is not None else embed_dim\n",
        "        self.vdim = vdim if vdim is not None else embed_dim\n",
        "        self._qkv_same_embed_dim = self.kdim == embed_dim and self.vdim == embed_dim\n",
        "        self.training = training\n",
        "        self.num_heads = num_heads\n",
        "        self.dropout = dropout\n",
        "        self.head_dim = embed_dim // num_heads\n",
        "        self.batch_first = batch_first\n",
        "        assert self.head_dim * num_heads == self.embed_dim, \"embed_dim must be divisible by num_heads\"\n",
        "\n",
        "        if self._qkv_same_embed_dim is False:\n",
        "            self.q_proj_weight = nn.Parameter(torch.Tensor(embed_dim, embed_dim))\n",
        "            self.k_proj_weight = nn.Parameter(torch.Tensor(embed_dim, self.kdim))\n",
        "            self.v_proj_weight = nn.Parameter(torch.Tensor(embed_dim, self.vdim))\n",
        "            self.register_parameter('in_proj_weight', None)\n",
        "        else:\n",
        "            if memory_efficient:\n",
        "                self.in_proj_weight = [nn.Parameter(torch.empty(3 * self.head_dim, self.head_dim)) for ii in range(num_heads)]\n",
        "                self.in_proj_weight = nn.ParameterList(self.in_proj_weight)\n",
        "                self.mha = sequentialMHA.apply\n",
        "            else:\n",
        "                self.in_proj_weight = nn.Parameter(torch.empty(3 * embed_dim, embed_dim))\n",
        "            self.register_parameter('q_proj_weight', None)\n",
        "            self.register_parameter('k_proj_weight', None)\n",
        "            self.register_parameter('v_proj_weight', None)\n",
        "\n",
        "        if bias:\n",
        "            if memory_efficient:\n",
        "                self.in_proj_bias = [nn.Parameter(torch.empty(3 * self.head_dim)) for ii in range(num_heads)]\n",
        "                self.in_proj_bias = nn.ParameterList(self.in_proj_bias)\n",
        "            else:\n",
        "                self.in_proj_bias = nn.Parameter(torch.empty(3 * embed_dim)) \n",
        "        else:\n",
        "            self.register_parameter('in_proj_bias', None)\n",
        "        self.out_proj =  nn.Linear(embed_dim, embed_dim, bias = True)\n",
        "\n",
        "        if add_bias_kv:\n",
        "            self.bias_k = nn.Parameter(torch.empty(1, 1, embed_dim))\n",
        "            self.bias_v = nn.Parameter(torch.empty(1, 1, embed_dim))\n",
        "        else:\n",
        "            self.bias_k = self.bias_v = None\n",
        "\n",
        "        self.add_zero_attn = add_zero_attn\n",
        "\n",
        "        self._reset_parameters()\n",
        "\n",
        "    def _reset_parameters(self):\n",
        "        if self._qkv_same_embed_dim:\n",
        "            if self.memory_efficient:\n",
        "                for ii in range(len(self.in_proj_weight)):\n",
        "                    nn.init.xavier_uniform_(self.in_proj_weight[ii])\n",
        "            else:\n",
        "                nn.init.xavier_uniform_(self.in_proj_weight)\n",
        "        else:\n",
        "            nn.init.xavier_uniform_(self.q_proj_weight)\n",
        "            nn.init.xavier_uniform_(self.k_proj_weight)\n",
        "            nn.init.xavier_uniform_(self.v_proj_weight)\n",
        "\n",
        "        if self.in_proj_bias is not None:\n",
        "            if self.memory_efficient:\n",
        "                for ii in range(len(self.in_proj_bias)):\n",
        "                    nn.init.constant_(self.in_proj_bias[ii], 0.)\n",
        "            else:\n",
        "                nn.init.constant_(self.in_proj_bias, 0.)\n",
        "            nn.init.constant_(self.out_proj.bias, 0.)\n",
        "        if self.bias_k is not None:\n",
        "            nn.init.xavier_normal_(self.bias_k)\n",
        "        if self.bias_v is not None:\n",
        "            nn.init.xavier_normal_(self.bias_v)\n",
        "\n",
        "    def __setstate__(self, state):\n",
        "        # Support loading old CustomMultiheadAttention checkpoints generated by v1.1.0\n",
        "        if '_qkv_same_embed_dim' not in state:\n",
        "            state['_qkv_same_embed_dim'] = True\n",
        "\n",
        "        super(CustomMultiheadAttention, self).__setstate__(state)\n",
        "\n",
        "    def forward(self, query, key, value, key_padding_mask=None,\n",
        "                need_weights=True, attn_mask=None):\n",
        "        \"\"\"\n",
        "    Args:\n",
        "        query, key, value: map a query and a set of key-value pairs to an output.\n",
        "            See \"Attention Is All You Need\" for more details.\n",
        "        key_padding_mask: if provided, specified padding elements in the key will\n",
        "            be ignored by the attention. When given a binary mask and a value is True,\n",
        "            the corresponding value on the attention layer will be ignored. When given\n",
        "            a byte mask and a value is non-zero, the corresponding value on the attention\n",
        "            layer will be ignored\n",
        "        need_weights: output attn_output_weights.\n",
        "        attn_mask: 2D or 3D mask that prevents attention to certain positions. A 2D mask will be broadcasted for all\n",
        "            the batches while a 3D mask allows to specify a different mask for the entries of each batch.\n",
        "\n",
        "    Shape:\n",
        "        - Inputs:\n",
        "        - query: :math:`(L, N, E)` where L is the target sequence length, N is the batch size, E is\n",
        "          the embedding dimension.\n",
        "        - key: :math:`(S, N, E)`, where S is the source sequence length, N is the batch size, E is\n",
        "          the embedding dimension.\n",
        "        - value: :math:`(S, N, E)` where S is the source sequence length, N is the batch size, E is\n",
        "          the embedding dimension.\n",
        "        - key_padding_mask: :math:`(N, S)` where N is the batch size, S is the source sequence length.\n",
        "          If a ByteTensor is provided, the non-zero positions will be ignored while the position\n",
        "          with the zero positions will be unchanged. If a BoolTensor is provided, the positions with the\n",
        "          value of ``True`` will be ignored while the position with the value of ``False`` will be unchanged.\n",
        "        - attn_mask: 2D mask :math:`(L, S)` where L is the target sequence length, S is the source sequence length.\n",
        "          3D mask :math:`(N*num_heads, L, S)` where N is the batch size, L is the target sequence length,\n",
        "          S is the source sequence length. attn_mask ensure that position i is allowed to attend the unmasked\n",
        "          positions. If a ByteTensor is provided, the non-zero positions are not allowed to attend\n",
        "          while the zero positions will be unchanged. If a BoolTensor is provided, positions with ``True``\n",
        "          is not allowed to attend while ``False`` values will be unchanged. If a FloatTensor\n",
        "          is provided, it will be added to the attention weight.\n",
        "\n",
        "        - Outputs:\n",
        "        - attn_output: :math:`(L, N, E)` where L is the target sequence length, N is the batch size,\n",
        "          E is the embedding dimension.\n",
        "        - attn_output_weights: :math:`(N, L, S)` where N is the batch size,\n",
        "          L is the target sequence length, S is the source sequence length.\n",
        "        \"\"\"\n",
        "        if self.memory_efficient:\n",
        "            #code adapted from: https://github.com/pytorch/pytorch/blob/master/torch/nn/functional.py\n",
        "\n",
        "            if self.batch_first:\n",
        "              key = key.transpose(0,1)\n",
        "              query = query.transpose(0,1)\n",
        "              value = value.transpose(0,1)\n",
        "            tgt_len, bsz, embed_dim = query.shape\n",
        "            src_len, _, _ = key.shape\n",
        "\n",
        "            #Check if batched. (Is this necessary, or can we assume the shape indicated in the documentation?)\n",
        "            if query.dim() == 3:\n",
        "                # Batched Inputs\n",
        "                is_batched = True\n",
        "                assert key.dim() == 3 and value.dim() == 3, \\\n",
        "                    (\"For batched (3-D) `query`, expected `key` and `value` to be 3-D\"\n",
        "                    f\" but found {key.dim()}-D and {value.dim()}-D tensors respectively\")\n",
        "                if key_padding_mask is not None:\n",
        "                    assert key_padding_mask.dim() == 2, \\\n",
        "                        (\"For batched (3-D) `query`, expected `key_padding_mask` to be `None` or 2-D\"\n",
        "                        f\" but found {key_padding_mask.dim()}-D tensor instead\")\n",
        "                if attn_mask is not None:\n",
        "                    assert attn_mask.dim() in (2, 3), \\\n",
        "                        (\"For batched (3-D) `query`, expected `attn_mask` to be `None`, 2-D or 3-D\"\n",
        "                        f\" but found {attn_mask.dim()}-D tensor instead\")\n",
        "            elif query.dim() == 2:\n",
        "                # Unbatched Inputs\n",
        "                is_batched = False\n",
        "                assert key.dim() == 2 and value.dim() == 2, \\\n",
        "                    (\"For unbatched (2-D) `query`, expected `key` and `value` to be 2-D\"\n",
        "                    f\" but found {key.dim()}-D and {value.dim()}-D tensors respectively\")\n",
        "\n",
        "                if key_padding_mask is not None:\n",
        "                    assert key_padding_mask.dim() == 1, \\\n",
        "                        (\"For unbatched (2-D) `query`, expected `key_padding_mask` to be `None` or 1-D\"\n",
        "                        f\" but found {key_padding_mask.dim()}-D tensor instead\")\n",
        "\n",
        "                if attn_mask is not None:\n",
        "                    assert attn_mask.dim() in (2, 3), \\\n",
        "                        (\"For unbatched (2-D) `query`, expected `attn_mask` to be `None`, 2-D or 3-D\"\n",
        "                        f\" but found {attn_mask.dim()}-D tensor instead\")\n",
        "                    if attn_mask.dim() == 3:\n",
        "                        expected_shape = (num_heads, query.shape[0], key.shape[0])\n",
        "                        assert attn_mask.shape == expected_shape, \\\n",
        "                            (f\"Expected `attn_mask` shape to be {expected_shape} but got {attn_mask.shape}\")\n",
        "            else:\n",
        "                raise AssertionError(\n",
        "                    f\"query should be unbatched 2D or batched 3D tensor but received {query.dim()}-D query tensor\")\n",
        "            \n",
        "            #Make into batch size 1 if not batched\n",
        "            if not is_batched:\n",
        "                # unsqueeze if the input is unbatched\n",
        "                query = query.unsqueeze(1)\n",
        "                key = key.unsqueeze(1)\n",
        "                value = value.unsqueeze(1)\n",
        "                if key_padding_mask is not None:\n",
        "                    key_padding_mask = key_padding_mask.unsqueeze(0)\n",
        "            \n",
        "            #Check attn mask\n",
        "            if attn_mask is not None:\n",
        "                if attn_mask.dtype == torch.uint8:\n",
        "                    warnings.warn(\"Byte tensor for attn_mask in nn.MultiheadAttention is deprecated. Use bool tensor instead.\")\n",
        "                    attn_mask = attn_mask.to(torch.bool)\n",
        "                else:\n",
        "                    assert attn_mask.is_floating_point() or attn_mask.dtype == torch.bool, \\\n",
        "                        f\"Only float, byte, and bool types are supported for attn_mask, not {attn_mask.dtype}\"\n",
        "                # ensure attn_mask's dim is 3\n",
        "                if attn_mask.dim() == 2:\n",
        "                    correct_2d_size = (tgt_len, src_len)\n",
        "                    if attn_mask.shape != correct_2d_size:\n",
        "                        raise RuntimeError(f\"The shape of the 2D attn_mask is {attn_mask.shape}, but should be {correct_2d_size}.\")\n",
        "                    attn_mask = attn_mask.unsqueeze(0)\n",
        "                elif attn_mask.dim() == 3:\n",
        "                    correct_3d_size = (bsz * num_heads, tgt_len, src_len)\n",
        "                    if attn_mask.shape != correct_3d_size:\n",
        "                        raise RuntimeError(f\"The shape of the 3D attn_mask is {attn_mask.shape}, but should be {correct_3d_size}.\")\n",
        "                else:\n",
        "                    raise RuntimeError(f\"attn_mask's dimension {attn_mask.dim()} is not supported\")\n",
        "                if(self.bias_k is not None and self.bias_v is not None):\n",
        "                    attn_mask = F.pad(attn_mask, (0,1))\n",
        "                if(self.add_zero_attn):\n",
        "                    attn_mask = F.pad(attn_mask, (0,1))\n",
        "\n",
        "            # Add dim according to the number of paddings done to masks\n",
        "            if self.bias_k is not None and self.bias_v is not None:\n",
        "                src_len +=1\n",
        "            if self.add_zero_attn:\n",
        "                src_len +=1\n",
        "            \n",
        "            #Check key padding mask\n",
        "            if key_padding_mask is not None:\n",
        "                if key_padding_mask.dtype == torch.uint8:\n",
        "                    key_padding_mask = key_padding_mask.to(torch.bool)\n",
        "                if(self.add_zero_attn):\n",
        "                    key_padding_mask = F.pad(key_padding_mask, (0,1))\n",
        "                if(self.bias_k is not None and self.bias_v is not None):\n",
        "                    key_padding_mask = F.pad(key_padding_mask, (0,1))\n",
        "\n",
        "                assert key_padding_mask.shape == (bsz, src_len), \\\n",
        "                    f\"expecting key_padding_mask shape of {(bsz, src_len)}, but got {key_padding_mask.shape}\"\n",
        "                key_padding_mask = key_padding_mask.view(bsz, 1, 1, src_len).   \\\n",
        "                    expand(-1, self.num_heads, -1, -1).reshape(bsz * self.num_heads, 1, src_len)\n",
        "                if attn_mask is None:\n",
        "                    attn_mask = key_padding_mask\n",
        "                elif attn_mask.dtype == torch.bool:\n",
        "                    attn_mask = attn_mask.logical_or(key_padding_mask)\n",
        "                else:\n",
        "                    attn_mask = attn_mask.masked_fill(key_padding_mask, float(\"-inf\"))\n",
        "\n",
        "            #Finalize mask\n",
        "            if attn_mask is not None and attn_mask.dtype == torch.bool:\n",
        "                new_attn_mask = torch.zeros_like(attn_mask, dtype=q.dtype)\n",
        "                new_attn_mask.masked_fill_(attn_mask, float(\"-inf\"))\n",
        "                attn_mask = new_attn_mask\n",
        "\n",
        "            #Reshape q,k,v for sequential operations (Seq_len, Batch_size, Num_heads, Head_dim)\n",
        "            query = query.view(query.shape[0],query.shape[1],self.num_heads,self.head_dim)\n",
        "            key = key.view(key.shape[0],key.shape[1],self.num_heads,self.head_dim)\n",
        "            value = value.view(value.shape[0],value.shape[1],self.num_heads,self.head_dim)\n",
        "\n",
        "            for i in range(self.num_heads):\n",
        "                Q, K, V = self.mha(query[:,:,i,:], key[:,:,i,:], value[:,:,i,:], self.in_proj_weight[i], self.in_proj_bias[i], self.head_dim)\n",
        "                if self.bias_k is not None and self.bias_v is not None:\n",
        "                    K = torch.cat([K, self.bias_k.repeat(1, bsz, 1)[:,:,self.head_dim*i: self.head_dim*(i+1)]])\n",
        "                    V = torch.cat([V, self.bias_v.repeat(1, bsz, 1)[:,:,self.head_dim*i: self.head_dim*(i+1)]])\n",
        "                \n",
        "                #make batch first\n",
        "                Q = Q.transpose(0,1)\n",
        "                K = K.transpose(0,1)\n",
        "                V = V.transpose(0,1)\n",
        "\n",
        "                if self.add_zero_attn:\n",
        "                    zero_attn_shape = (bsz, 1, self.head_dim)\n",
        "                    K = torch.cat([K, torch.zeros(zero_attn_shape, dtype=K.dtype, device=K.device)], dim=1)\n",
        "                    V = torch.cat([V, torch.zeros(zero_attn_shape, dtype=V.dtype, device=V.device)], dim=1)\n",
        "                \n",
        "                # scaled dot product attention\n",
        "                Q /= math.sqrt(self.head_dim)\n",
        "                qk = torch.matmul(Q, K.transpose(-1,1))\n",
        "                \n",
        "                if(attn_mask is not None):\n",
        "                    qk = qk + attn_mask[bsz*i:bsz*(i+1),:,:] if attn_mask.shape[0] > 1 else qk + attn_mask\n",
        "                \n",
        "                attn = nn.Softmax(dim=-1)(qk)\n",
        "                if(self.training and self.dropout > 0.0):\n",
        "                    attn = nn.Dropout(p = self.dropout)(attn)\n",
        "                \n",
        "                # Concatenate weights and outputs for final out_projection after iteration\n",
        "                attn_weights = attn if i == 0 else torch.cat((attn_weights, attn))\n",
        "                attn_output = torch.matmul(attn, V) if i == 0 else torch.cat((attn_output,torch.matmul(attn,V)), dim = -1)\n",
        "            \n",
        "            attn_output = attn_output.transpose(0,1)\n",
        "            out = self.out_proj(attn_output)\n",
        "            if need_weights:\n",
        "                attn_weights = attn_weights.view(bsz, self.num_heads, tgt_len, src_len)\n",
        "                attn_weights = attn_weights.sum(dim = 1) / self.num_heads\n",
        "                if not is_batched:\n",
        "                    attn_output = attn_output.squeeze(1)\n",
        "                    attn_weights = attn_weights.squeeze(0)\n",
        "                return attn_output, attn_weights\n",
        "            else:\n",
        "                if not is_batched:\n",
        "                    attn_output = attn_output.squeeze(1)\n",
        "                return attn_output, None\n",
        "        else:\n",
        "            if not self._qkv_same_embed_dim:\n",
        "                return F.multi_head_attention_forward(\n",
        "                    query, key, value, self.embed_dim, self.num_heads,\n",
        "                    self.in_proj_weight, self.in_proj_bias,\n",
        "                    self.bias_k, self.bias_v, self.add_zero_attn,\n",
        "                    self.dropout, self.out_proj.weight, self.out_proj.bias,\n",
        "                    training=self.training,\n",
        "                    key_padding_mask=key_padding_mask, need_weights=need_weights,\n",
        "                    attn_mask=attn_mask, use_separate_proj_weight=True,\n",
        "                    q_proj_weight=self.q_proj_weight, k_proj_weight=self.k_proj_weight,\n",
        "                    v_proj_weight=self.v_proj_weight)\n",
        "            else:\n",
        "                #\n",
        "                return F.multi_head_attention_forward(\n",
        "                    query, key, value, self.embed_dim, self.num_heads,\n",
        "                    self.in_proj_weight, self.in_proj_bias,\n",
        "                    self.bias_k, self.bias_v, self.add_zero_attn,\n",
        "                    self.dropout, self.out_proj.weight, self.out_proj.bias,\n",
        "                    training=self.training,\n",
        "                    key_padding_mask=key_padding_mask, need_weights=need_weights,\n",
        "                    attn_mask=attn_mask)\n",
        "\n",
        "\n",
        "# Generate mask covering the top right triangle of a matrix\n",
        "def generate_square_subsequent_mask(size):\n",
        "\tmask = (torch.triu(torch.ones(size, size)) == 1).transpose(0, 1)\n",
        "\tmask = mask.float().masked_fill(mask == 0, float('-inf')).masked_fill(mask == 1, float(0.0))\n",
        "\treturn mask\n",
        "\n",
        "\n"
      ]
    },
    {
      "cell_type": "code",
      "source": [
        "class PositionalEncoding(nn.Module):\n",
        "    def __init__(self, d_model: int, dropout: float = 0.1, max_len: int = 5000):\n",
        "        super().__init__()\n",
        "        self.dropout = nn.Dropout(p=dropout)\n",
        "\n",
        "        position = torch.arange(max_len).unsqueeze(1)\n",
        "        div_term = torch.exp(torch.arange(0, d_model, 2) * (-math.log(10000.0) / d_model))\n",
        "        pe = torch.zeros(max_len, 1, d_model)\n",
        "        pe[:, 0, 0::2] = torch.sin(position * div_term)\n",
        "        pe[:, 0, 1::2] = torch.cos(position * div_term)\n",
        "        self.register_buffer('pe', pe)\n",
        "\n",
        "    def forward(self, x):#: Tensor) -> Tensor:\n",
        "        \"\"\"\n",
        "        Args:\n",
        "            x: Tensor, shape [seq_len, batch_size, embedding_dim]\n",
        "        \"\"\"\n",
        "        x = x + self.pe[:x.size(0)]\n",
        "        return self.dropout(x)"
      ],
      "metadata": {
        "id": "mniD9tAmx6re"
      },
      "execution_count": null,
      "outputs": []
    },
    {
      "cell_type": "code",
      "source": [
        "class CustomTransformerEncoderLayer(nn.modules.TransformerEncoderLayer):\n",
        "  def __init__(self, d_model: int, nhead: int, dim_feedforward: int = 2048, dropout: float = 0.1,\n",
        "              activation = F.relu,\n",
        "              layer_norm_eps: float = 1e-5, batch_first: bool = False, norm_first: bool = False,\n",
        "              device=None, dtype=None) -> None:\n",
        "      super(CustomTransformerEncoderLayer, self).__init__(d_model, nhead, dim_feedforward, dropout, activation, layer_norm_eps, batch_first, norm_first, device, dtype)\n",
        "      self.self_attn = CustomMultiheadAttention(d_model, nhead, dropout = dropout, memory_efficient= True)#, add_bias_kv = True, add_zero_attn = True)"
      ],
      "metadata": {
        "id": "5rzbgWbZIhjS"
      },
      "execution_count": null,
      "outputs": []
    },
    {
      "cell_type": "code",
      "source": [
        "class TransformerModel(nn.Module):\n",
        "    def __init__(self, ntoken: int, d_model: int, nhead: int, d_hid: int,\n",
        "                 nlayers: int, dropout: float = 0.5):\n",
        "        super().__init__()\n",
        "        self.model_type = 'Transformer'\n",
        "        self.pos_encoder = PositionalEncoding(d_model, dropout)\n",
        "        encoder_layers = TransformerEncoderLayer(d_model, nhead, d_hid, dropout)\n",
        "        self.transformer_encoder = TransformerEncoder(encoder_layers, nlayers)\n",
        "        self.encoder = nn.Embedding(ntoken, d_model)\n",
        "        self.d_model = d_model\n",
        "        self.decoder = nn.Linear(d_model, ntoken)\n",
        "\n",
        "        self.init_weights()\n",
        "\n",
        "    def init_weights(self):# -> None:\n",
        "        initrange = 0.1\n",
        "        self.encoder.weight.data.uniform_(-initrange, initrange)\n",
        "        self.decoder.bias.data.zero_()\n",
        "        self.decoder.weight.data.uniform_(-initrange, initrange)\n",
        "\n",
        "    def forward(self, src, src_mask):#: Tensor, src_mask: Tensor) -> Tensor:\n",
        "        \"\"\"\n",
        "        Args:\n",
        "            src: Tensor, shape [seq_len, batch_size]\n",
        "            src_mask: Tensor, shape [seq_len, seq_len]\n",
        "\n",
        "        Returns:\n",
        "            output Tensor of shape [seq_len, batch_size, ntoken]\n",
        "        \"\"\"\n",
        "        src = self.encoder(src) * math.sqrt(self.d_model)\n",
        "        src = self.pos_encoder(src)\n",
        "        output = self.transformer_encoder(src, src_mask)\n",
        "        output = self.decoder(output)\n",
        "        return output\n",
        "\n",
        "class CustomTransformerModel(TransformerModel):\n",
        "  def __init__(self, ntoken: int, d_model: int, nhead: int, d_hid: int,\n",
        "                 nlayers: int, dropout: float = 0.5):\n",
        "        super(CustomTransformerModel, self).__init__(ntoken, d_model, nhead, d_hid, nlayers, dropout)\n",
        "        encoder_layers = CustomTransformerEncoderLayer(d_model, nhead, d_hid, dropout)\n",
        "        self.transformer_encoder = TransformerEncoder(encoder_layers, nlayers)\n",
        "\n"
      ],
      "metadata": {
        "id": "fg2CMZbfj9Kq"
      },
      "execution_count": null,
      "outputs": []
    },
    {
      "cell_type": "code",
      "source": [
        "#modified code from: https://pytorch.org/tutorials/beginner/transformer_tutorial.html\n",
        "\n",
        "def train(model, optimizer, criterion, train_data, scheduler) -> None:\n",
        "    model.train()  # turn on train mode\n",
        "    total_loss = 0.\n",
        "    log_interval = 200\n",
        "    start_time = time.time()\n",
        "    src_mask = generate_square_subsequent_mask(bptt).to(device)\n",
        "    ntokens = len(vocab)\n",
        "    num_batches = len(train_data) // bptt\n",
        "    for batch, i in tqdm(enumerate(range(0, train_data.size(0) - 1, bptt))):\n",
        "        data, targets = get_batch(train_data, i)\n",
        "        batch_size = data.size(0)\n",
        "        if batch_size != bptt:  # only on last batch\n",
        "            src_mask = src_mask[:batch_size, :batch_size]\n",
        "        output = model(data,  src_mask)\n",
        "        loss = criterion(output.view(-1, ntokens), targets)\n",
        "\n",
        "        optimizer.zero_grad()\n",
        "        loss.backward()\n",
        "        torch.nn.utils.clip_grad_norm_(model.parameters(), 0.5)\n",
        "        optimizer.step()\n",
        "\n",
        "        total_loss += loss.item()\n",
        "        if batch % log_interval == 0 and batch > 0:\n",
        "            lr = scheduler.get_last_lr()[0]\n",
        "            ms_per_batch = (time.time() - start_time) * 1000 / log_interval\n",
        "            cur_loss = total_loss / log_interval\n",
        "            ppl = math.exp(cur_loss)\n",
        "            #print(f'| epoch {epoch:3d} | {batch:5d}/{num_batches:5d} batches | '\n",
        "            #      f'lr {lr:02.2f} | ms/batch {ms_per_batch:5.2f} | '\n",
        "            #      f'loss {cur_loss:5.2f} | ppl {ppl:8.2f}')\n",
        "            total_loss = 0\n",
        "            start_time = time.time()\n",
        "        #if batch > 200:\n",
        "        #  break\n",
        "        del data\n",
        "        del targets\n",
        "        del output\n",
        "        del loss\n",
        "        torch.cuda.empty_cache()\n",
        "    \n",
        "\n",
        "def evaluate(model, criterion, eval_data):\n",
        "    model.eval()  # turn on evaluation mode\n",
        "    total_loss = 0.\n",
        "    ntokens = len(vocab)\n",
        "    src_mask = generate_square_subsequent_mask(bptt).to(device)\n",
        "    with torch.no_grad():\n",
        "        for i in range(0, eval_data.size(0) - 1, bptt):\n",
        "            data, targets = get_batch(eval_data, i)\n",
        "            batch_size = data.size(0)\n",
        "            if batch_size != bptt:\n",
        "                src_mask = src_mask[:batch_size, :batch_size]\n",
        "            output = model(data, src_mask)\n",
        "            output_flat = output.view(-1, ntokens)\n",
        "            total_loss += batch_size * criterion(output_flat, targets).item()\n",
        "    return total_loss / (len(eval_data) - 1)"
      ],
      "metadata": {
        "id": "xYb_O4DWyIKc"
      },
      "execution_count": null,
      "outputs": []
    },
    {
      "cell_type": "code",
      "source": [
        "#source: https://stackoverflow.com/questions/49201236/check-the-total-number-of-parameters-in-a-pytorch-model\n",
        "#model parameter count measurement\n",
        "\n",
        "def count_parameters(model):\n",
        "    table = PrettyTable([\"Modules\", \"Parameters\"])\n",
        "    total_params = 0\n",
        "    for name, parameter in model.named_parameters():\n",
        "        if not parameter.requires_grad: continue\n",
        "        param = parameter.numel()\n",
        "        table.add_row([name, param])\n",
        "        total_params+=param\n",
        "    print(table)\n",
        "    print(f\"Total Trainable Params: {total_params}\")\n",
        "    return total_params\n",
        "\n",
        "#count_parameters(model)"
      ],
      "metadata": {
        "id": "eA699huThKnj"
      },
      "execution_count": null,
      "outputs": []
    },
    {
      "cell_type": "code",
      "source": [
        "# time/memory/performance evaluation\n",
        "\n",
        "import time\n",
        "def run():\n",
        "    typ = \"sequential\"\n",
        "    nhead = 4\n",
        "    emsize = 200\n",
        "    nlayers = 3\n",
        "    lr = 5.0  # learning rate\n",
        "    epochs = 3\n",
        "    ntokens = len(vocab)  # size of vocabulary\n",
        "    d_hid = 200  # dimension of the feedforward network model in nn.TransformerEncoder\n",
        "    dropout = 0.2  # dropout probability\n",
        "    if typ == \"sequential\":\n",
        "      model = CustomTransformerModel(ntokens, emsize, nhead, d_hid, nlayers, dropout).to(device)\n",
        "    else:\n",
        "      model = TransformerModel(ntokens, emsize, nhead, d_hid, nlayers, dropout).to(device)\n",
        "    criterion = nn.CrossEntropyLoss()p\n",
        "    optimizer = torch.optim.SGD(model.parameters(), lr=lr)\n",
        "    scheduler = torch.optim.lr_scheduler.StepLR(optimizer, 1.0, gamma=0.95)    \n",
        "    for epoch in range(epochs):  \n",
        "        epoch_start_time = time.time()\n",
        "        train(model, optimizer, criterion, train_data, scheduler)\n",
        "        elapsed = time.time() - epoch_start_time\n",
        "        #print(\"time:\", elapsed)\n",
        "        #break\n",
        "        val_loss = evaluate(model, criterion, val_data)\n",
        "        val_ppl = math.exp(val_loss)\n",
        "        scheduler.step()\n",
        "        print(f'| end of epoch {epoch:3d} | time: {elapsed:5.2f}s | '\n",
        "              f'valid loss {val_loss:5.2f} | valid ppl {val_ppl:8.2f}')\n",
        "        #break\n",
        "\n",
        "    #source for model size computation: https://discuss.pytorch.org/t/gpu-memory-that-model-uses/56822\n",
        "    mem_params = sum([param.nelement()*param.element_size() for param in model.parameters()])\n",
        "    mem_bufs = sum([buf.nelement()*buf.element_size() for buf in model.buffers()])\n",
        "    mem = mem_params + mem_bufs # in bytes\n",
        "    \n",
        "    #print(typ, nlayers, emsize, nhead, batch_size)\n",
        "    #print(torch.cuda.max_memory_allocated(), torch.cuda.max_memory_reserved(), mem)\n",
        "    print(\"--\"*36)\n",
        "    torch.cuda.empty_cache()\n",
        "\n",
        "#Uncomment to run\n",
        "#run()"
      ],
      "metadata": {
        "colab": {
          "base_uri": "https://localhost:8080/"
        },
        "id": "Cvz9FFyS1XCR",
        "outputId": "2eb1f62a-07bf-4575-af77-a8dc45445ada"
      },
      "execution_count": null,
      "outputs": [
        {
          "output_type": "stream",
          "name": "stderr",
          "text": [
            "2929it [01:38, 29.66it/s]\n"
          ]
        },
        {
          "output_type": "stream",
          "name": "stdout",
          "text": [
            "| end of epoch   0 | time: 98.77s | valid loss  5.79 | valid ppl   328.57\n"
          ]
        },
        {
          "output_type": "stream",
          "name": "stderr",
          "text": [
            "2929it [01:38, 29.76it/s]\n"
          ]
        },
        {
          "output_type": "stream",
          "name": "stdout",
          "text": [
            "| end of epoch   1 | time: 98.42s | valid loss  5.58 | valid ppl   264.72\n"
          ]
        },
        {
          "output_type": "stream",
          "name": "stderr",
          "text": [
            "2929it [01:38, 29.74it/s]\n"
          ]
        },
        {
          "output_type": "stream",
          "name": "stdout",
          "text": [
            "| end of epoch   2 | time: 98.49s | valid loss  5.54 | valid ppl   255.19\n",
            "------------------------------------------------------------------------\n"
          ]
        }
      ]
    },
    {
      "cell_type": "code",
      "source": [
        "#Testing MHA implementation\n",
        "if __name__ == \"__main__\":\n",
        "    src_seq_len = 2; tgt_seq_len = 2; b=7; emb_dim = 20; nhead = 4\n",
        "    torch.manual_seed(0)\n",
        "    Q = torch.rand((src_seq_len, b, emb_dim), requires_grad=True)\n",
        "    K = torch.rand((src_seq_len, b, emb_dim), requires_grad=True)\n",
        "    V = torch.rand((src_seq_len, b, emb_dim), requires_grad=True) #(2,7,20)\n",
        "    key_padding_mask =  torch.ones(b, src_seq_len)                #(7,2)\n",
        "    #key_padding_mask = None\n",
        "    attn_mask = generate_square_subsequent_mask(size=Q.shape[0])  #(2,2)\n",
        "    \n",
        "    MHA = CustomMultiheadAttention(emb_dim, nhead, training=True, memory_efficient=False, add_bias_kv= True, add_zero_attn = True)\n",
        "    out, w  = MHA(Q,Q,Q, key_padding_mask=key_padding_mask, attn_mask=attn_mask)\n",
        "    print(out[0,0])\n",
        "    \n",
        "    # your task is to implement `CustomMultiheadAttention` with memory_efficient=True and use it for the end task\n",
        "    MHA = CustomMultiheadAttention(emb_dim, nhead, training=True, memory_efficient=True, add_bias_kv = True, add_zero_attn = True)\n",
        "    out, w  = MHA(Q,Q,Q, key_padding_mask=key_padding_mask, attn_mask=attn_mask)\n",
        "    print(out[0,0])\n",
        "    loss = torch.sum(out)\n",
        "    loss.backward()"
      ],
      "metadata": {
        "id": "qHOI_XXiOgBZ"
      },
      "execution_count": null,
      "outputs": []
    },
    {
      "cell_type": "code",
      "source": [
        "#Graphing\n",
        "#Model architecture: layers=13,  embed_dim=5000, hidden_dim=200\n",
        "\n",
        "gigabyte = 1000000000\n",
        "megabyte = 1000000\n",
        "#parallel\n",
        "x = [2, 4, 8] #heads\n",
        "parallel_time = [3227,3087.8,3234.2]\n",
        "parallel_maxbatch = [20,20,20]\n",
        "parallel_memory = [15753884672/gigabyte  ,15753884672/gigabyte ,15778738176/gigabyte]\n",
        "parallel_model_size = [6557745528/megabyte,6557745528/megabyte,6557745528/megabyte]\n",
        "\n",
        "\n",
        "#sequential\n",
        "seq_time = [3924.86, 1625.5, 1388.4]\n",
        "seq_maxbatch = [20, 90, 110]\n",
        "seq_memory = [14613331456/gigabyte, 8747521536/gigabyte, 7175637504/gigabyte]\n",
        "seq_model_size = [4607745528/megabyte, 3632745528/megabyte, 3145245528/megabyte]"
      ],
      "metadata": {
        "id": "dwpQOk77-ohY"
      },
      "execution_count": null,
      "outputs": []
    },
    {
      "cell_type": "code",
      "source": [
        "memory = {\"Parallel\": parallel_memory, \"Sequential\": seq_memory}\n",
        "mem_df = pd.DataFrame(data = memory, index = [2,4,8])\n",
        "mem_df.plot(kind = \"bar\")\n",
        "plt.title(\"A: Peak GPU Usage in Gigabytes\")"
      ],
      "metadata": {
        "colab": {
          "base_uri": "https://localhost:8080/",
          "height": 295
        },
        "id": "QbsQjSmcM0Lg",
        "outputId": "840437ba-158c-4c51-cc67-a2fad1deb8fc"
      },
      "execution_count": null,
      "outputs": [
        {
          "output_type": "execute_result",
          "data": {
            "text/plain": [
              "Text(0.5, 1.0, 'A: Peak GPU Usage in Gigabytes')"
            ]
          },
          "metadata": {},
          "execution_count": 30
        },
        {
          "output_type": "display_data",
          "data": {
            "image/png": "[encoded data removed]",
            "text/plain": [
              "<Figure size 432x288 with 1 Axes>"
            ]
          },
          "metadata": {
            "needs_background": "light"
          }
        }
      ]
    },
    {
      "cell_type": "code",
      "source": [
        "batch = {\"Parallel\": parallel_maxbatch, \"Sequential\": seq_maxbatch}\n",
        "batch_df = pd.DataFrame(data = batch, index = [2,4,8])\n",
        "batch_df.plot(kind = \"bar\")\n",
        "plt.title(\"B: Maximum Batch Size\")\n"
      ],
      "metadata": {
        "colab": {
          "base_uri": "https://localhost:8080/",
          "height": 295
        },
        "id": "ZAjDAmBrM42M",
        "outputId": "aa7f208f-8310-4411-93c2-6cd2f73eb9cf"
      },
      "execution_count": null,
      "outputs": [
        {
          "output_type": "execute_result",
          "data": {
            "text/plain": [
              "Text(0.5, 1.0, 'B: Maximum Batch Size')"
            ]
          },
          "metadata": {},
          "execution_count": 31
        },
        {
          "output_type": "display_data",
          "data": {
            "image/png": "[encoded data removed]",
            "text/plain": [
              "<Figure size 432x288 with 1 Axes>"
            ]
          },
          "metadata": {
            "needs_background": "light"
          }
        }
      ]
    },
    {
      "cell_type": "code",
      "source": [
        "time = {\"Parallel\": parallel_time, \"Sequential\": seq_time}\n",
        "time_df = pd.DataFrame(data = time, index = [2,4,8])\n",
        "time_df.plot(kind = \"bar\")\n",
        "plt.title(\"C: Time Taken in Seconds for Max Possible Batch Size\")"
      ],
      "metadata": {
        "colab": {
          "base_uri": "https://localhost:8080/",
          "height": 295
        },
        "id": "WSx9XSjLQWpc",
        "outputId": "8dd999f6-9d7f-4c4a-d741-e430f80ce43b"
      },
      "execution_count": null,
      "outputs": [
        {
          "output_type": "execute_result",
          "data": {
            "text/plain": [
              "Text(0.5, 1.0, 'C: Time Taken in Seconds for Max Possible Batch Size')"
            ]
          },
          "metadata": {},
          "execution_count": 32
        },
        {
          "output_type": "display_data",
          "data": {
            "image/png": "[encoded data removed]",
            "text/plain": [
              "<Figure size 432x288 with 1 Axes>"
            ]
          },
          "metadata": {
            "needs_background": "light"
          }
        }
      ]
    },
    {
      "cell_type": "code",
      "source": [
        "model_size = {\"Parallel\": parallel_model_size, \"Sequential\": seq_model_size}\n",
        "size_df = pd.DataFrame(data = model_size, index = [2,4,8])\n",
        "size_df.plot(kind = \"bar\")\n",
        "plt.title(\"D: Model Sizes in Megabytes\")\n"
      ],
      "metadata": {
        "id": "2iUYaRzdQwnf",
        "colab": {
          "base_uri": "https://localhost:8080/",
          "height": 295
        },
        "outputId": "b1d55cd8-d367-41e4-fe9f-dfa94067dc20"
      },
      "execution_count": null,
      "outputs": [
        {
          "output_type": "execute_result",
          "data": {
            "text/plain": [
              "Text(0.5, 1.0, 'D: Model Sizes in Megabytes')"
            ]
          },
          "metadata": {},
          "execution_count": 33
        },
        {
          "output_type": "display_data",
          "data": {
            "image/png": "[encoded data removed]",
            "text/plain": [
              "<Figure size 432x288 with 1 Axes>"
            ]
          },
          "metadata": {
            "needs_background": "light"
          }
        }
      ]
    },
    {
      "cell_type": "markdown",
      "source": [
        "# Approach\n",
        "\n",
        "***Sequential Implementation:*** \n",
        "*self.in_proj_weight =  [nn.Parameter(torch.empty(3 x self.head_dim, self.head_dim)) for ii in range(num_heads)]*\n",
        "\n",
        "***Parallel Implementation***: *self.in_proj_weight = nn.Parameter(torch.empty(3 * embed_dim, embed_dim))*\n",
        "\n",
        "Given the definition of *self.in_proj_weight =  [nn.Parameter(torch.empty(3 x self.head_dim, self.head_dim)) for ii in range(num_heads)]*, I reshaped the query, key and value tensors to *(Seq_len, Batch_size, Num_heads, Head_dim)* and iterated over *num_heads* to perform matrix multiplication between *in_proj_weight[i] and query [: , : , i , : ] , k[ : , : , i , : ], v[ : , : , i , : ]* tensors (and similarly, matrix addition with *in_proj_bias*). \n",
        "\n",
        "Consequently, compared to the original, parallel implementation of MultiHeadAttention from Pytorch, the sequential implementation needed to take care of the *add_bias_kv* and *add_zero_attn* conditions inside the for loop, and needed to make changes to the *key_padding_mask* and *attn_mask* before the for loop. The shapes of the masks are computed and checked before the for loop, and Key and Value, if *add_bias_kv = True* and/or *add_zero_attn = True*, are handled within the for loop. \n",
        "\n",
        "# Performance:\n",
        "\n",
        "### Parallel num_heads = 2\n",
        "epoch   0 | time: 70.76s | valid loss  5.81 | valid ppl   334.35\n",
        "\n",
        "epoch   1 | time: 70.59s | valid loss  5.66 | valid ppl   286.65\n",
        "\n",
        "epoch   2 | time: 70.48s | valid loss  5.64 | valid ppl   280.98\n",
        "\n",
        "### Sequential num_heads = 2\n",
        "epoch   0 | time: 76.88s | valid loss  5.78 | valid ppl   323.44\n",
        "\n",
        "epoch   1 | time: 76.75s | valid loss  5.64 | valid ppl   280.60\n",
        "\n",
        "epoch   2 | time: 76.79s | valid loss  5.55 | valid ppl   258.29\n",
        "\n",
        "### Parallel num_heads = 4\n",
        "epoch   0 | time: 69.31s | valid loss  5.79 | valid ppl   327.99\n",
        "\n",
        "epoch   1 | time: 70.19s | valid loss  5.65 | valid ppl   283.42\n",
        "\n",
        "epoch   2 | time: 70.13s | valid loss  5.54 | valid ppl   255.39\n",
        "\n",
        "### Sequential num_heads = 4\n",
        "\n",
        "epoch   0 | time: 87.14s | valid loss  5.72 | valid ppl   305.81\n",
        "\n",
        "epoch   1 | time: 87.15s | valid loss  5.61 | valid ppl   273.97\n",
        "\n",
        "epoch   2 | time: 86.46s | valid loss  5.54 | valid ppl   253.51\n",
        "\n",
        "### Parallel num_heads = 8\n",
        "epoch   0 | time: 72.59s | valid loss  5.78 | valid ppl   325.22\n",
        "\n",
        "epoch   1 | time: 72.15s | valid loss  5.61 | valid ppl   273.99\n",
        "\n",
        "epoch   2 | time: 72.17s | valid loss  5.58 | valid ppl   264.19\n",
        "\n",
        "### Sequential num_heads = 8\n",
        "epoch   0 | time: 111.50s | valid loss  5.74 | valid ppl   311.85\n",
        "\n",
        "epoch   1 | time: 111.24s | valid loss  5.62 | valid ppl   276.88\n",
        "\n",
        "epoch   2 | time: 111.04s | valid loss  5.58 | valid ppl   265.14\n",
        "\n",
        "\n",
        "This log of the two implementations show that they perform almost equally well in terms of validation loss and validation ppl. In addition, the time taken for the Parallel implementation shows only a small difference in the time taken for different number of heads. On the other hand, sequential implementations show an increase in time taken as the number of heads grows. \n",
        "\n",
        "# Comparisons\n",
        "\n",
        "The comparison between Sequential and Parallel implementations was done with a fixed model architecture, with *layers = 13* and *embedding_size = 5000*. This architecture was the largest possible model size on my machine, for a Parallel implementation with *batch_size = 20*. \n",
        "The anticipated result of the comparison was that a Parallel implementation required more memory, but required less time to compute. Likewise, a Sequential implementation required less memory, but consumed more time to compute. \n",
        "\n",
        "I used the same model configurations for the Parallel and Sequential implementations, and found that the actual results slightly differed from this expectation.I've also included a graph comparing model sizes.\n",
        "\n",
        "### Peak GPU Usage\n",
        "To compare Peak GPU usage, I used *torch.cuda.max_memory_allocated()*. The Peak GPU usage graph shows that for Parallel implementation, the peak GPU usage is approximately the same, whereas the peak GPU usage for the Sequential implementation decreases as the number of heads increases, as desired. The primary reason for the decrease in GPU usage is that the number of parameters of MultiHead Attention for models with Parallel implementation do not depend on the number of heads, and only depend on the embedding size, as shown by the definition of weights: *self.in_proj_weight = Parameter(torch.empty((3 x embed_dim, embed_dim)))*. Compared to this, the number of parameters of attention for Sequential implementation depends on the number of heads: *self.in_proj_weight = [nn.Parameter(torch.empty(3 x self.head_dim, self.head_dim)) for ii in range(num_heads)]* where *self.head_dim = embed_dim // num_heads*. This dependence on *num_heads* allows models with sequential implementation to use much less memory for the model than Parallel models, by a factor of *num_heads*.\n",
        "\n",
        "### Maximum Batch Size\n",
        "Because the model size was much smaller for Sequential implementations, there was more memory available to be allocated to larger batches of data. As a result, the maximum batch size becomes larger as *num_heads* increases for Sequential implementations. However, because the model size was constant for Parallel implementation, the maximum batch size for Parallel implementation was the same.\n",
        "\n",
        "### Run-Time for Max Batch \n",
        "When *num_heads = 2*, we observe that the Sequential Implementation takes more time than the Parallel Implementation even though the Sequential Implementation's model size is smaller than the Parallel's. As *num_heads* increases, we notice that the time taken for Sequential implementation decreases, taking only half of the time of Parallel implementations. This can be attributed to the fact the Sequential implementations require less model memory, allowing the maximum possible batch size to be much larger than the maximum possible batch size for Parallel implementations. However, as the Performance section shows, under similar circumstances, the runtime of Parallel implementation easily outperforms the runtime of Sequential implementation.\n",
        "\n",
        "### Future work\n",
        "Given more time, it would be interesting to study some kind of a memory threshold for which Parallel implementations perform better than Sequential implementations. In the Performance section, it is evident that the Sequential implementation takes longer than the Parallel implementation, and the runtime increases as the number of heads increases. However, when experimenting with a model that was created to be as large as possible for *batch_size = 20* for the Parallel implementation, we discover that the Sequential models are much smaller and result in better runtimes. In fact, the Sequential models' performances can be further improved by increasing the batch size, up to 110, for *num_heads = 8*. We can understand that the time efficiency of Parallel implementations are not always better than Sequential implementations', and past a certain memory threshold, perform worse than Sequential implementations in terms of both memory and runtime. Investigating appropriate model sizes relative to available memory and identifying some threshold of model sizes at which Sequential implementations gain the upper hand for both memory and runtime could be valuable insight for deciding which implementation to use.\n",
        "\n",
        "\n"
      ],
      "metadata": {
        "id": "l_RewKc0aOqu"
      }
    }
  ]
}